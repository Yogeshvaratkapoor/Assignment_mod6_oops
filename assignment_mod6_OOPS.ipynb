{
  "nbformat": 4,
  "nbformat_minor": 0,
  "metadata": {
    "colab": {
      "provenance": []
    },
    "kernelspec": {
      "name": "python3",
      "display_name": "Python 3"
    },
    "language_info": {
      "name": "python"
    }
  },
  "cells": [
    {
      "cell_type": "markdown",
      "source": [
        "#Theory Questions"
      ],
      "metadata": {
        "id": "ErBr4m1cTvrB"
      }
    },
    {
      "cell_type": "markdown",
      "source": [
        "1. What is Object-Oriented Programming (OOP)?\n",
        "- Object-Oriented Programming (OOP) is a programming paradigm based on the concept of “objects” that contain data (attributes) and functions (methods). It promotes code reusability, modularity, and encapsulation, making complex software easier to manage, modify, and debug by modeling real-world entities as classes and objects.\n",
        "\n",
        "2. What is a class in OOP?\n",
        "- A class in OOP is a user-defined blueprint or prototype from which objects are created. It encapsulates data members (attributes) and methods (functions) that define the behavior and state of an object. Classes promote reusability and serve as templates for creating multiple instances (objects) with the same structure.\n",
        "\n",
        "3. What is an object in OOP?\n",
        " - An object is an instance of a class in Object-Oriented Programming. It represents a real-world entity with specific attributes (data) and behavior (methods). Each object operates independently and can interact with other objects, allowing complex systems to be built from modular, manageable components.\n",
        "\n",
        "4. What is the difference between abstraction and encapsulation?\n",
        " - Abstraction hides complex internal details and shows only essential features to the user, focusing on what an object does. Encapsulation bundles data and methods into a single unit (class) and restricts access using access modifiers, protecting internal object state from unauthorized access or modification.\n",
        "\n",
        "5. What are dunder methods in Python?\n",
        " - Dunder methods, also called magic methods, in Python are special methods surrounded by double underscores (e.g., __init__, __str__). They allow classes to emulate built-in behaviors and respond to built-in functions and operators. These methods enable operator overloading and object customization for intuitive and readable code.\n",
        "\n",
        "6. Explain the concept of inheritance in OOP.\n",
        "- Inheritance allows a class (child or subclass) to acquire properties and methods from another class (parent or superclass). It promotes code reuse and hierarchical class structures, where the child class can override or extend the functionalities of the parent class, enabling efficient and scalable program development.\n",
        "\n",
        "7. What is polymorphism in OOP?\n",
        "- Polymorphism allows different classes to be treated through a common interface, enabling the same operation to behave differently on different classes. It supports method overriding and operator overloading, enhancing flexibility and maintainability by allowing interchangeable object interactions based on shared behavior.\n",
        "\n",
        "8. How is encapsulation achieved in Python?\n",
        "- Encapsulation in Python is achieved using classes and access modifiers. Variables can be made private by prefixing them with an underscore (e.g., _var, __var), restricting access from outside the class. Methods called getters and setters manage access, ensuring data security and abstraction within objects.\n",
        "\n",
        "9. What is a constructor in Python?\n",
        "- A constructor in Python is a special method named __init__ used to initialize an object’s attributes when the object is created. It automatically executes when a new instance of the class is created and sets up the initial state of the object with the given or default values.\n",
        "\n",
        "10. What are class and static methods in Python?\n",
        "- Class methods are defined using @classmethod and take cls as the first parameter, allowing access to class-level attributes. Static methods use @staticmethod and do not take self or cls, functioning like regular functions within a class. Both are used for utility tasks not requiring instance context.\n",
        "\n",
        "11. What is method overloading in Python?\n",
        "- Python does not support traditional method overloading like some other languages. Instead, it uses default parameters or variable-length arguments to simulate it. A method can behave differently based on the number or type of arguments provided, although only the last defined method name is recognized by the interpreter.\n",
        "\n",
        "12. What is method overriding in OOP?\n",
        "- Method overriding occurs when a subclass provides a specific implementation of a method already defined in its parent class. This allows the child class to modify or extend the inherited behavior, enabling dynamic (run-time) polymorphism and supporting flexibility and customization in object-oriented design.\n",
        "\n",
        "13. What is a property decorator in Python?\n",
        "- A property decorator (@property) in Python is used to define getter methods for a class attribute, making it accessible like a regular attribute while still using a method behind the scenes. It promotes encapsulation and allows control over attribute access without changing external class usage.\n",
        "\n",
        "14. Why is polymorphism important in OOP?\n",
        "- Polymorphism is important in OOP because it enables objects of different classes to be treated uniformly through a common interface. This simplifies code, increases flexibility, promotes reusability, and supports the implementation of dynamic behavior, making programs easier to scale and maintain.\n",
        "\n",
        "15. What is an abstract class in Python?\n",
        "- An abstract class in Python is a class that cannot be instantiated and serves as a base for other classes. It contains one or more abstract methods, which must be implemented in child classes. Abstract classes are defined using the ABC module and @abstractmethod decorator.\n",
        "\n",
        "16. What are the advantages of OOP?\n",
        "- The advantages of OOP include modularity, code reusability, scalability, and easier maintenance. By modeling real-world entities using classes and objects, it supports abstraction, encapsulation, inheritance, and polymorphism, which help organize complex programs, reduce redundancy, and enhance problem-solving through structured and reusable code.\n",
        "\n",
        "17. What is the difference between a class variable and an instance variable?\n",
        "- A class variable is shared among all instances of a class, defined at the class level, and maintains the same value for every object unless explicitly changed. An instance variable is unique to each object, defined inside the constructor (__init__), and stores data specific to that object.\n",
        "\n",
        "18. What is multiple inheritance in Python?\n",
        "- Multiple inheritance is a feature in Python where a class can inherit from more than one parent class. This allows the derived class to access methods and attributes from all parent classes. Python handles method resolution using the Method Resolution Order (MRO) to avoid conflicts and ambiguity.\n",
        "\n",
        "19. Explain the purpose of __str__ and __repr__ methods in Python.\n",
        "- The __str__ method returns a user-friendly string representation of an object, used by the print() function. The __repr__ method returns an official string representation of the object, often used for debugging. Ideally, __repr__ should return a string that can recreate the object if passed to eval().\n",
        "\n",
        "20. What is the significance of the super() function in Python?\n",
        "- The super() function in Python is used to call methods from a parent class in a subclass. It allows access to the parent’s methods and constructors without explicitly naming them. This is particularly useful in inheritance and ensures maintainability and proper method resolution in multiple inheritance scenarios.\n"
      ],
      "metadata": {
        "id": "9EvWF1zAT38Y"
      }
    },
    {
      "cell_type": "markdown",
      "source": [
        "21. What is the significance of the __del__ method in Python?\n",
        "- The __del__ method in Python is a special (dunder) method called when an object is about to be destroyed. It is used to define custom cleanup actions like closing files or releasing resources. It acts as a destructor, but its use is limited because object deletion timing is controlled by Python's garbage collector.\n",
        "\n",
        "22. What is the difference between @staticmethod and @classmethod in Python?\n",
        "- @staticmethod defines a method that does not access class or instance data; it behaves like a regular function within a class. @classmethod takes cls as the first argument and can access or modify class-level data. While static methods are utility functions, class methods are useful for alternative constructors or class-specific logic.\n",
        "\n",
        "23. How does polymorphism work in Python with inheritance?\n",
        " - In Python, polymorphism with inheritance allows a child class to override methods from the parent class. When the same method name is called on different objects, Python automatically chooses the appropriate method based on the object's class. This enables dynamic behavior and interchangeable use of related objects through a common interface.\n",
        "\n",
        "24. What is method chaining in Python OOP?\n",
        "- Method chaining is a programming style where multiple methods are called sequentially on the same object in a single statement. Each method returns self to allow the next method call. This improves code readability and fluency, often used in builders, data processing pipelines, or frameworks with a fluent API design.\n",
        "\n",
        "25. What is the purpose of the __call__ method in Python?\n",
        "- The __call__ method makes an object callable like a function. When defined in a class, it allows instances of that class to be used with parentheses (e.g., obj()). This is useful for function-like behavior in objects, such as building function wrappers, decorators, or configurable execution flows."
      ],
      "metadata": {
        "id": "USHo0J2dVHL6"
      }
    },
    {
      "cell_type": "markdown",
      "source": [
        "#Practical Questions"
      ],
      "metadata": {
        "id": "CdbWlbc5VgZu"
      }
    },
    {
      "cell_type": "code",
      "source": [
        "# 1. Create a parent class Animal with a method speak() that prints a generic message. Create a child class Dog that overrides the speak() method to print \"Bark!\".\n",
        "class Animal:\n",
        "    def speak(self):\n",
        "        print(\"Animal speaks\")\n",
        "\n",
        "class Dog(Animal):\n",
        "    def speak(self):\n",
        "        print(\"Bark!\")\n",
        "\n",
        "d = Dog()\n",
        "d.speak()"
      ],
      "metadata": {
        "colab": {
          "base_uri": "https://localhost:8080/"
        },
        "id": "SGuBzmyeVnSo",
        "outputId": "c4622240-f335-4548-f232-b6ff70943735"
      },
      "execution_count": 1,
      "outputs": [
        {
          "output_type": "stream",
          "name": "stdout",
          "text": [
            "Bark!\n"
          ]
        }
      ]
    },
    {
      "cell_type": "code",
      "source": [
        "# 2. Write a program to create an abstract class Shape with a method area(). Derive classes Circle and Rectangle from it and implement the area() method in both.\n",
        "from abc import ABC, abstractmethod\n",
        "import math\n",
        "\n",
        "class Shape(ABC):\n",
        "    @abstractmethod\n",
        "    def area(self):\n",
        "        pass\n",
        "\n",
        "class Circle(Shape):\n",
        "    def __init__(self, radius):\n",
        "        self.radius = radius\n",
        "    def area(self):\n",
        "        return math.pi * self.radius * self.radius\n",
        "\n",
        "class Rectangle(Shape):\n",
        "    def __init__(self, length, width):\n",
        "        self.length = length\n",
        "        self.width = width\n",
        "    def area(self):\n",
        "        return self.length * self.width\n",
        "\n",
        "c = Circle(5)\n",
        "r = Rectangle(4, 6)\n",
        "print(c.area())\n",
        "print(r.area())"
      ],
      "metadata": {
        "colab": {
          "base_uri": "https://localhost:8080/"
        },
        "id": "WiaFJcLlWXKi",
        "outputId": "8cb9dfda-2c25-42cf-d50c-df37ef821dd2"
      },
      "execution_count": 2,
      "outputs": [
        {
          "output_type": "stream",
          "name": "stdout",
          "text": [
            "78.53981633974483\n",
            "24\n"
          ]
        }
      ]
    },
    {
      "cell_type": "code",
      "source": [
        "# 3. Implement a multi-level inheritance scenario where a class Vehicle has an attribute type. Derive a class Car and further derive a class ElectricCar that adds a battery attribute.\n",
        "class Vehicle:\n",
        "    def __init__(self, type):\n",
        "        self.type = type\n",
        "\n",
        "class Car(Vehicle):\n",
        "    def __init__(self, type, brand):\n",
        "        super().__init__(type)\n",
        "        self.brand = brand\n",
        "\n",
        "class ElectricCar(Car):\n",
        "    def __init__(self, type, brand, battery):\n",
        "        super().__init__(type, brand)\n",
        "        self.battery = battery\n",
        "\n",
        "e = ElectricCar(\"4-wheeler\", \"Tesla\", \"85 kWh\")\n",
        "print(e.type, e.brand, e.battery)"
      ],
      "metadata": {
        "colab": {
          "base_uri": "https://localhost:8080/"
        },
        "id": "9m4VZSAdWiuV",
        "outputId": "cffc8235-61ff-475a-d1ab-50d8b4cb8a3d"
      },
      "execution_count": 3,
      "outputs": [
        {
          "output_type": "stream",
          "name": "stdout",
          "text": [
            "4-wheeler Tesla 85 kWh\n"
          ]
        }
      ]
    },
    {
      "cell_type": "code",
      "source": [
        "# 4. Demonstrate polymorphism by creating a base class Bird with a method fly(). Create two derived classes Sparrow and Penguin that override the fly() method.\n",
        "class Bird:\n",
        "    def fly(self):\n",
        "        print(\"Bird is flying\")\n",
        "\n",
        "class Sparrow(Bird):\n",
        "    def fly(self):\n",
        "        print(\"Sparrow flies high\")\n",
        "\n",
        "class Penguin(Bird):\n",
        "    def fly(self):\n",
        "        print(\"Penguins can't fly\")\n",
        "\n",
        "b1 = Sparrow()\n",
        "b2 = Penguin()\n",
        "b1.fly()\n",
        "b2.fly()"
      ],
      "metadata": {
        "colab": {
          "base_uri": "https://localhost:8080/"
        },
        "id": "l0SN7Ak_Wuxk",
        "outputId": "d7a009b1-a797-4e01-813d-2d06a307ae0b"
      },
      "execution_count": 4,
      "outputs": [
        {
          "output_type": "stream",
          "name": "stdout",
          "text": [
            "Sparrow flies high\n",
            "Penguins can't fly\n"
          ]
        }
      ]
    },
    {
      "cell_type": "code",
      "source": [
        "# 5. Write a program to demonstrate encapsulation by creating a class BankAccount with private attributes balance and methods to deposit, withdraw, and check balance.\n",
        "class BankAccount:\n",
        "    def __init__(self):\n",
        "        self.__balance = 0\n",
        "    def deposit(self, amount):\n",
        "        self.__balance += amount\n",
        "    def withdraw(self, amount):\n",
        "        if amount <= self.__balance:\n",
        "            self.__balance -= amount\n",
        "    def check_balance(self):\n",
        "        return self.__balance\n",
        "\n",
        "acc = BankAccount()\n",
        "acc.deposit(1000)\n",
        "acc.withdraw(500)\n",
        "print(acc.check_balance())"
      ],
      "metadata": {
        "colab": {
          "base_uri": "https://localhost:8080/"
        },
        "id": "RcHmpUY0WuuK",
        "outputId": "ae2fabcf-673c-4992-8c10-0504ea5bf255"
      },
      "execution_count": 5,
      "outputs": [
        {
          "output_type": "stream",
          "name": "stdout",
          "text": [
            "500\n"
          ]
        }
      ]
    },
    {
      "cell_type": "code",
      "source": [
        "# 6. Demonstrate runtime polymorphism using a method play() in a base class Instrument. Derive classes Guitar and Piano that implement their own version of play().\n",
        "class Instrument:\n",
        "    def play(self):\n",
        "        print(\"Playing instrument\")\n",
        "\n",
        "class Guitar(Instrument):\n",
        "    def play(self):\n",
        "        print(\"Playing guitar\")\n",
        "\n",
        "class Piano(Instrument):\n",
        "    def play(self):\n",
        "        print(\"Playing piano\")\n",
        "\n",
        "i1 = Guitar()\n",
        "i2 = Piano()\n",
        "i1.play()\n",
        "i2.play()"
      ],
      "metadata": {
        "colab": {
          "base_uri": "https://localhost:8080/"
        },
        "id": "tYi6CaW2Wuqc",
        "outputId": "8fe76257-f2db-4d48-dc8b-1fcc97bafa09"
      },
      "execution_count": 6,
      "outputs": [
        {
          "output_type": "stream",
          "name": "stdout",
          "text": [
            "Playing guitar\n",
            "Playing piano\n"
          ]
        }
      ]
    },
    {
      "cell_type": "code",
      "source": [
        "# 7. Create a class MathOperations with a class method add_numbers() to add two numbers and a static method subtract_numbers() to subtract two numbers.\n",
        "class MathOperations:\n",
        "    @classmethod\n",
        "    def add_numbers(cls, a, b):\n",
        "        return a + b\n",
        "\n",
        "    @staticmethod\n",
        "    def subtract_numbers(a, b):\n",
        "        return a - b\n",
        "\n",
        "print(MathOperations.add_numbers(5, 3))\n",
        "print(MathOperations.subtract_numbers(10, 4))"
      ],
      "metadata": {
        "colab": {
          "base_uri": "https://localhost:8080/"
        },
        "id": "o9_hm-vxWumw",
        "outputId": "3426065f-ce9a-4389-8df6-60afc3c5469e"
      },
      "execution_count": 14,
      "outputs": [
        {
          "output_type": "stream",
          "name": "stdout",
          "text": [
            "8\n",
            "6\n"
          ]
        }
      ]
    },
    {
      "cell_type": "code",
      "source": [
        "# 8. Implement a class Person with a class method to count the total number of persons created.\n",
        "class Person:\n",
        "    count = 0\n",
        "\n",
        "    def __init__(self):\n",
        "        Person.count += 1\n",
        "\n",
        "    @classmethod\n",
        "    def total_persons(cls):\n",
        "        return cls.count\n",
        "\n",
        "p1 = Person()\n",
        "p2 = Person()\n",
        "print(Person.total_persons())"
      ],
      "metadata": {
        "colab": {
          "base_uri": "https://localhost:8080/"
        },
        "id": "_UMXiEhUWujW",
        "outputId": "02d54d51-a427-44b6-d618-919bad1b46c9"
      },
      "execution_count": 13,
      "outputs": [
        {
          "output_type": "stream",
          "name": "stdout",
          "text": [
            "2\n"
          ]
        }
      ]
    },
    {
      "cell_type": "code",
      "source": [
        "# 9. Write a class Fraction with attributes numerator and denominator. Override the str method to display the fraction as \"numerator/denominator\".\n",
        "class Fraction:\n",
        "    def __init__(self, numerator, denominator):\n",
        "        self.numerator = numerator\n",
        "        self.denominator = denominator\n",
        "    def __str__(self):\n",
        "        return f\"{self.numerator}/{self.denominator}\"\n",
        "\n",
        "f = Fraction(3, 4)\n",
        "print(f)"
      ],
      "metadata": {
        "colab": {
          "base_uri": "https://localhost:8080/"
        },
        "id": "gbr85dXLXZZd",
        "outputId": "fa12d5bb-4382-43e8-842b-e8b12e30f2fb"
      },
      "execution_count": 12,
      "outputs": [
        {
          "output_type": "stream",
          "name": "stdout",
          "text": [
            "3/4\n"
          ]
        }
      ]
    },
    {
      "cell_type": "code",
      "source": [
        "# 10. Demonstrate operator overloading by creating a class Vector and overriding the add method to add two vectors.\n",
        "class Vector:\n",
        "    def __init__(self, x, y):\n",
        "        self.x = x\n",
        "        self.y = y\n",
        "    def __add__(self, other):\n",
        "        return Vector(self.x + other.x, self.y + other.y)\n",
        "    def __str__(self):\n",
        "        return f\"({self.x}, {self.y})\"\n",
        "\n",
        "v1 = Vector(2, 3)\n",
        "v2 = Vector(4, 5)\n",
        "v3 = v1 + v2\n",
        "print(v3)"
      ],
      "metadata": {
        "colab": {
          "base_uri": "https://localhost:8080/"
        },
        "id": "MxZbUCLDXrxm",
        "outputId": "1d984e89-acb8-4f28-fdab-02ba47713ddb"
      },
      "execution_count": 11,
      "outputs": [
        {
          "output_type": "stream",
          "name": "stdout",
          "text": [
            "(6, 8)\n"
          ]
        }
      ]
    },
    {
      "cell_type": "code",
      "source": [
        "# 11. Create a class Person with attributes name and age. Add a method greet() that prints \"Hello, my name is {name} and I am {age} years old.\"\n",
        "class Person:\n",
        "    def __init__(self, name, age):\n",
        "        self.name = name\n",
        "        self.age = age\n",
        "    def greet(self):\n",
        "        print(f\"Hello, my name is {self.name} and I am {self.age} years old.\")\n",
        "\n",
        "p = Person(\"Alice\", 25)\n",
        "p.greet()"
      ],
      "metadata": {
        "colab": {
          "base_uri": "https://localhost:8080/"
        },
        "id": "_UcYb5NFXv07",
        "outputId": "0c86f863-8b3c-4d4b-8429-28c24b37e2f3"
      },
      "execution_count": 10,
      "outputs": [
        {
          "output_type": "stream",
          "name": "stdout",
          "text": [
            "Hello, my name is Alice and I am 25 years old.\n"
          ]
        }
      ]
    },
    {
      "cell_type": "code",
      "source": [
        "# 12. Implement a class Student with attributes name and grades. Create a method average_grade() to compute the average of the grades.\n",
        "class Student:\n",
        "    def __init__(self, name, grades):\n",
        "        self.name = name\n",
        "        self.grades = grades\n",
        "    def average_grade(self):\n",
        "        return sum(self.grades) / len(self.grades)\n",
        "\n",
        "s = Student(\"Bob\", [80, 90, 85])\n",
        "print(s.average_grade())"
      ],
      "metadata": {
        "colab": {
          "base_uri": "https://localhost:8080/"
        },
        "id": "cd3j3ThlXvvw",
        "outputId": "be68a5e3-53a8-45bd-b787-9f328bda61ba"
      },
      "execution_count": 9,
      "outputs": [
        {
          "output_type": "stream",
          "name": "stdout",
          "text": [
            "85.0\n"
          ]
        }
      ]
    },
    {
      "cell_type": "code",
      "source": [
        "# 13. Create a class Rectangle with methods set_dimensions() to set the dimensions and area() to calculate the area.\n",
        "class Rectangle:\n",
        "    def set_dimensions(self, length, width):\n",
        "        self.length = length\n",
        "        self.width = width\n",
        "    def area(self):\n",
        "        return self.length * self.width\n",
        "\n",
        "r = Rectangle()\n",
        "r.set_dimensions(5, 4)\n",
        "print(r.area())"
      ],
      "metadata": {
        "colab": {
          "base_uri": "https://localhost:8080/"
        },
        "id": "ScfrvVCFXvsB",
        "outputId": "abd63141-bf92-4644-e97a-e6def9ecc535"
      },
      "execution_count": 8,
      "outputs": [
        {
          "output_type": "stream",
          "name": "stdout",
          "text": [
            "20\n"
          ]
        }
      ]
    },
    {
      "cell_type": "code",
      "source": [
        "# 14. Create a class Employee with a method calculate_salary() that computes the salary based on hours worked and hourly rate. Create a derived class Manager that adds a bonus to the salary.\n",
        "class Employee:\n",
        "    def calculate_salary(self, hours, rate):\n",
        "        return hours * rate\n",
        "\n",
        "class Manager(Employee):\n",
        "    def calculate_salary(self, hours, rate, bonus):\n",
        "        return super().calculate_salary(hours, rate) + bonus\n",
        "\n",
        "e = Employee()\n",
        "m = Manager()\n",
        "print(e.calculate_salary(40, 20))\n",
        "print(m.calculate_salary(40, 20, 500))"
      ],
      "metadata": {
        "colab": {
          "base_uri": "https://localhost:8080/"
        },
        "id": "3yJzR1p8Xvnu",
        "outputId": "0fa33a82-9dad-4ad8-f356-5b96d2515d3b"
      },
      "execution_count": 7,
      "outputs": [
        {
          "output_type": "stream",
          "name": "stdout",
          "text": [
            "800\n",
            "1300\n"
          ]
        }
      ]
    },
    {
      "cell_type": "code",
      "source": [
        "# 15. Create a class Product with attributes name, price, and quantity. Implement a method total_price() that calculates the total price of the product.\n",
        "class Product:\n",
        "    def __init__(self, name, price, quantity):\n",
        "        self.name = name\n",
        "        self.price = price\n",
        "        self.quantity = quantity\n",
        "    def total_price(self):\n",
        "        return self.price * self.quantity\n",
        "\n",
        "p = Product(\"Pen\", 10, 5)\n",
        "print(p.total_price())"
      ],
      "metadata": {
        "colab": {
          "base_uri": "https://localhost:8080/"
        },
        "id": "BudXp6EnXvfY",
        "outputId": "09b959fe-eead-47e0-c78f-98912ce4f7d0"
      },
      "execution_count": 20,
      "outputs": [
        {
          "output_type": "stream",
          "name": "stdout",
          "text": [
            "50\n"
          ]
        }
      ]
    },
    {
      "cell_type": "code",
      "source": [
        "# 16. Create a class Animal with an abstract method sound(). Create two derived classes Cow and Sheep that implement the sound() method.\n",
        "from abc import ABC, abstractmethod\n",
        "\n",
        "class Animal(ABC):\n",
        "    @abstractmethod\n",
        "    def sound(self):\n",
        "        pass\n",
        "\n",
        "class Cow(Animal):\n",
        "    def sound(self):\n",
        "        return \"Moo\"\n",
        "\n",
        "class Sheep(Animal):\n",
        "    def sound(self):\n",
        "        return \"Baa\"\n",
        "\n",
        "c = Cow()\n",
        "s = Sheep()\n",
        "print(c.sound())\n",
        "print(s.sound())"
      ],
      "metadata": {
        "colab": {
          "base_uri": "https://localhost:8080/"
        },
        "id": "NMeRDsfdYTsJ",
        "outputId": "3d939267-5112-4910-8de5-c9c55e8a68a6"
      },
      "execution_count": 19,
      "outputs": [
        {
          "output_type": "stream",
          "name": "stdout",
          "text": [
            "Moo\n",
            "Baa\n"
          ]
        }
      ]
    },
    {
      "cell_type": "code",
      "source": [
        "# 17. Create a class Book with attributes title, author, and year_published. Add a method get_book_info() that returns a formatted string with the book's details.\n",
        "class Book:\n",
        "    def __init__(self, title, author, year_published):\n",
        "        self.title = title\n",
        "        self.author = author\n",
        "        self.year_published = year_published\n",
        "    def get_book_info(self):\n",
        "        return f\"{self.title} by {self.author}, published in {self.year_published}\"\n",
        "\n",
        "b = Book(\"1984\", \"George Orwell\", 1949)\n",
        "print(b.get_book_info())"
      ],
      "metadata": {
        "colab": {
          "base_uri": "https://localhost:8080/"
        },
        "id": "hMytjFonYTwb",
        "outputId": "938f18d4-0c47-46f6-c62d-75babd43d183"
      },
      "execution_count": 17,
      "outputs": [
        {
          "output_type": "stream",
          "name": "stdout",
          "text": [
            "1984 by George Orwell, published in 1949\n"
          ]
        }
      ]
    },
    {
      "cell_type": "code",
      "source": [
        "# 18. Create a class House with attributes address and price. Create a derived class Mansion that adds an attribute number_of_rooms.\n",
        "class House:\n",
        "    def __init__(self, address, price):\n",
        "        self.address = address\n",
        "        self.price = price\n",
        "\n",
        "class Mansion(House):\n",
        "    def __init__(self, address, price, number_of_rooms):\n",
        "        super().__init__(address, price)\n",
        "        self.number_of_rooms = number_of_rooms\n",
        "\n",
        "m = Mansion(\"123 Street\", 500000, 10)\n",
        "print(m.address, m.price, m.number_of_rooms)"
      ],
      "metadata": {
        "colab": {
          "base_uri": "https://localhost:8080/"
        },
        "id": "HldXHoYzYT0o",
        "outputId": "df628de4-4550-48dd-c047-6f992c83cd72"
      },
      "execution_count": 16,
      "outputs": [
        {
          "output_type": "stream",
          "name": "stdout",
          "text": [
            "123 Street 500000 10\n"
          ]
        }
      ]
    }
  ]
}